{
 "cells": [
  {
   "cell_type": "code",
   "execution_count": null,
   "metadata": {},
   "outputs": [],
   "source": [
    "import requests\n",
    "import pandas as pd\n",
    "from bs4 import BeautifulSoup\n"
   ]
  },
  {
   "cell_type": "code",
   "execution_count": null,
   "metadata": {},
   "outputs": [],
   "source": [
    "\n",
    "# Header to set the requests as a browser requests\n",
    "headers = {\n",
    "    'authority': 'www.amazon.in',\n",
    "    'accept': 'text/html,application/xhtml+xml,application/xml;q=0.9,image/avif,image/webp,image/apng,*/*;q=0.8,application/signed-exchange;v=b3;q=0.9',\n",
    "    'accept-language': 'en-US,en;q=0.9,bn;q=0.8',\n",
    "    'sec-ch-ua': '\" Not A;Brand\";v=\"99\", \"Chromium\";v=\"102\", \"Google Chrome\";v=\"102\"',\n",
    "    'user-agent': 'Mozilla/5.0 (Windows NT 10.0; Win64; x64) AppleWebKit/537.36 (KHTML, like Gecko) Chrome/122.0.0.0 Safari/537.36'\n",
    "}\n"
   ]
  },
  {
   "cell_type": "code",
   "execution_count": null,
   "metadata": {},
   "outputs": [],
   "source": [
    "\n",
    "url=\"https://www.amazon.in/gp/bestsellers\"\n",
    "response=requests.get(url,headers=headers)\n",
    "response.status_code\n",
    "\n"
   ]
  },
  {
   "cell_type": "code",
   "execution_count": null,
   "metadata": {},
   "outputs": [],
   "source": [
    "\n",
    "soup=BeautifulSoup(requests.get(url,headers=headers).text,'lxml')\n",
    "link=[]\n",
    "count=0\n",
    "for i in soup.find_all(\"div\",{'class':\"_p13n-zg-nav-tree-all_style_zg-browse-item__1rdKf _p13n-zg-nav-tree-all_style_zg-browse-height-small__nleKL\"}):\n",
    "    link.append(\"https://www.amazon.in\"+i.a.get(\"href\"))\n",
    "    count=count+1\n"
   ]
  },
  {
   "cell_type": "code",
   "execution_count": null,
   "metadata": {},
   "outputs": [],
   "source": [
    "    \n",
    "prod_name=[]\n",
    "prod_link=[]\n",
    "i=0\n",
    "for i in range(len(link)):\n",
    "    soup=BeautifulSoup(requests.get(link[i],headers=headers).text,'lxml')\n",
    "    \n",
    "    for i in soup.find_all(\"div\",{'class':\"p13n-sc-uncoverable-faceout\"}):\n",
    "        prod_name.append(i.span.div.text)\n",
    "        prod_link.append(\"https://www.amazon.in\"+i.a.get(\"href\")) \n"
   ]
  },
  {
   "cell_type": "code",
   "execution_count": null,
   "metadata": {},
   "outputs": [],
   "source": [
    "    \n",
    "pro_link = []\n",
    "count=0\n",
    "for li in prod_link:\n",
    "    try:\n",
    "        soup = BeautifulSoup(requests.get(li, headers=headers).text, 'html.parser')\n",
    "        print(f\"prod_link: {li}\")\n",
    "        lin = soup.find('a', attrs={'data-hook': 'see-all-reviews-link-foot'})\n",
    "        count +=1\n",
    "        if lin and lin.get(\"href\"):\n",
    "            print('https://www.amazon.in' +lin.get(\"href\"))\n",
    "            pro_link.append('https://www.amazon.in' + lin.get(\"href\"))\n",
    "        else:\n",
    "            print(\"No reviews link found.\")\n",
    "    except Exception as e:\n",
    "        print(f\"Error processing link {li}: {e}\")\n"
   ]
  },
  {
   "cell_type": "code",
   "execution_count": null,
   "metadata": {},
   "outputs": [],
   "source": [
    "\n",
    "print(len(pro_link))\n"
   ]
  },
  {
   "cell_type": "code",
   "execution_count": null,
   "metadata": {},
   "outputs": [],
   "source": [
    "\n",
    "reviews = []\n",
    "count=0\n",
    "j=0\n",
    "for j in range(len(pro_link)):\n",
    "    for k in range(10):\n",
    "        response = pro_link[j] + '&pageNumber=' + str(k)\n",
    "        \n",
    "        print( count)\n",
    "        count +=1\n",
    "        print(response)\n",
    "        soup=BeautifulSoup(requests.get(response,headers=headers).text,'lxml')\n",
    "        for i in soup.findAll(\"div\", {'data-hook': \"review\"}):\n",
    "            try:\n",
    "                name = i.select_one('[class=\"a-profile-name\"]').text.strip()\n",
    "            except Exception as e:\n",
    "                name = 'N/A'\n",
    "\n",
    "            try:\n",
    "                stars = i.select_one('[data-hook=\"review-star-rating\"]').text.strip().split(' out')[0]\n",
    "            except Exception as e:\n",
    "                stars = 'N/A'   \n",
    "\n",
    "            try:\n",
    "                title = i.select_one('[data-hook=\"review-title\"]').text.strip().split('\\n')[1]\n",
    "            except Exception as e:\n",
    "                title = 'N/A'\n",
    "\n",
    "            try:\n",
    "                # Convert date str to dd/mm/yyy format\n",
    "                date = i.select_one('[data-hook=\"review-date\"]').text.strip().split(' on ')[-1]\n",
    "\n",
    "            except Exception as e:\n",
    "                date = 'N/A'\n",
    "\n",
    "            try:\n",
    "                description = i.select_one('[data-hook=\"review-body\"]').text.strip()\n",
    "            except Exception as e:\n",
    "                description = 'N/A'\n",
    "                \n",
    "            try:\n",
    "                verification = i.select_one('[data-hook=\"avp-badge\"]').text.strip()\n",
    "            except Exception as e:\n",
    "                verification = 'N/A'\n",
    "                \n",
    "            # create Dictionary with all review data \n",
    "            data_dict = {\n",
    "                'product':prod_name[j],\n",
    "                'Name': name,\n",
    "                'Stars': stars,\n",
    "                'Title': title,\n",
    "                'Date': date,\n",
    "                'Verification': verification,\n",
    "                'Description': description\n",
    "            }\n",
    "\n",
    "            # Add Dictionary in master empty List\n",
    "            reviews.append(data_dict)\n"
   ]
  },
  {
   "cell_type": "code",
   "execution_count": null,
   "metadata": {},
   "outputs": [],
   "source": [
    "\n",
    "reviews\n"
   ]
  },
  {
   "cell_type": "code",
   "execution_count": null,
   "metadata": {},
   "outputs": [],
   "source": [
    "\n",
    "len(reviews)\n"
   ]
  },
  {
   "cell_type": "code",
   "execution_count": null,
   "metadata": {},
   "outputs": [],
   "source": [
    "\n",
    "review_data=pd.DataFrame.from_dict(reviews)\n",
    "pd.set_option('max_colwidth',800)"
   ]
  },
  {
   "cell_type": "code",
   "execution_count": null,
   "metadata": {},
   "outputs": [],
   "source": [
    "review_data.to_csv('scrapingReview.csv')"
   ]
  }
 ],
 "metadata": {
  "language_info": {
   "name": "python"
  }
 },
 "nbformat": 4,
 "nbformat_minor": 2
}
